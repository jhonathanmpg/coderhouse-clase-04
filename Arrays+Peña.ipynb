{
 "cells": [
  {
   "cell_type": "code",
   "execution_count": 3,
   "id": "78c6e896",
   "metadata": {},
   "outputs": [],
   "source": [
    "import numpy as np\n",
    "import pandas as pd"
   ]
  },
  {
   "cell_type": "code",
   "execution_count": 109,
   "id": "e3b7552f",
   "metadata": {},
   "outputs": [
    {
     "name": "stdout",
     "output_type": "stream",
     "text": [
      "[  1  13  20  20  21  34  58  71  80  87  91  99 102 105 106 121 130 130\n",
      " 160 166 189 191 205 214 241 243 252 270 273 276 308 313 315 330 339 343\n",
      " 345 366 372 385 387 387 389 401 413 427 435 454 458 459 466 474 475 476\n",
      " 484 491 504 508 510 560 561 562 564 565 566 600 614 646 661 663 681 686\n",
      " 699 700 702 729 747 769 771 775 776 782 805 818 821 831 840 856 860 871\n",
      " 871 875 897 931 942 955 955 957 957 975]\n",
      "la mediana es: 462.5\n"
     ]
    }
   ],
   "source": [
    "#Ejercicio 1\n",
    "seed=np.random.seed(42) #Seteo la semilla para poder hacer pruebas mas adelante\n",
    "array100 = np.random.randint(1000,size=100,dtype=int) #genero un array de 100 elementos con números enteros entre 1 y 100\n",
    "array_ordenado= np.sort(array100)\n",
    "medianaArray100 = np.median(array_ordenado)\n",
    "print(array_ordenado)\n",
    "print(f\"la mediana es: {medianaArray100}\")"
   ]
  },
  {
   "cell_type": "code",
   "execution_count": 100,
   "id": "1b6fb7e1",
   "metadata": {},
   "outputs": [
    {
     "name": "stdout",
     "output_type": "stream",
     "text": [
      "60.0\n",
      "132.0\n",
      "720.0\n"
     ]
    }
   ],
   "source": [
    "#Ejercicio 2.a\n",
    "def factorial(x,y):\n",
    "    '''\n",
    "    Esta función calcula el factorial de una serie de números desde un x(inicial) hasta un y(final) con el método factorial de math incluido en numpy\n",
    "    Args: x - número menor de la serie\n",
    "          y - número mayor de la serie\n",
    "    \n",
    "    '''\n",
    "    serie = np.arange(x,y+1)\n",
    "    facX = np.math.factorial(serie[0])\n",
    "    facY = np.math.factorial(serie[-1])\n",
    "    fac = facY/facX\n",
    "    return fac\n",
    "print(factorial(2,5))\n",
    "print(factorial(10,12))\n",
    "print(factorial(1,6))\n"
   ]
  },
  {
   "cell_type": "code",
   "execution_count": 112,
   "id": "d48f2758",
   "metadata": {},
   "outputs": [
    {
     "name": "stdout",
     "output_type": "stream",
     "text": [
      "la serie sería: [ 1  2  3  4  5  6  7  8  9 10]\n",
      "la sumatoria de todos sus elementos es: 55\n",
      "la serie sería: [ 5  6  7  8  9 10]\n",
      "la sumatoria de todos sus elementos es: 45\n",
      "la serie sería: [25 26 27 28 29 30 31 32 33 34 35 36 37 38 39 40 41 42 43 44 45 46 47 48\n",
      " 49 50]\n",
      "la sumatoria de todos sus elementos es: 975\n"
     ]
    }
   ],
   "source": [
    "#Ejercicio 2.b\n",
    "def sumatoria(x=0,y=100):\n",
    "    '''\n",
    "    Esta función calcula la sumatoria de una serie sabiendo que el primero siempre será menor que el segundo usando el método arange de numpy\n",
    "    Args: x - primer número y siempre menor a y\n",
    "          y - segúndo número mayor que x\n",
    "    \n",
    "    '''\n",
    "    arrayXY = np.arange(x,y+1)\n",
    "    print(f\"la serie sería: {arrayXY}\")\n",
    "    suma = arrayXY.sum()\n",
    "    return f\"la sumatoria de todos sus elementos es: {suma}\"\n",
    "print(sumatoria(1,10))\n",
    "print(sumatoria(5,10))\n",
    "print(sumatoria(25,50))"
   ]
  },
  {
   "cell_type": "code",
   "execution_count": 70,
   "id": "028b58af",
   "metadata": {},
   "outputs": [
    {
     "name": "stdout",
     "output_type": "stream",
     "text": [
      "float64\n"
     ]
    }
   ],
   "source": [
    "#Ejercicio 3\n",
    "df = pd.read_csv(\"Salarios Openqube - 2020.02.csv\") #Cargamos el csv con la librería Pandas\n",
    "df['Salario mensual NETO (en tu moneda local)'] = pd.to_numeric(df['Salario mensual NETO (en tu moneda local)'], errors='coerce') #Seleccionamos la columna de 'Salario mensual NETO (en tu moneda local)' y convertimos sus elementos a float \n",
    "print(df['Salario mensual NETO (en tu moneda local)'].dtypes)"
   ]
  },
  {
   "cell_type": "code",
   "execution_count": 74,
   "id": "7a63e2d2",
   "metadata": {},
   "outputs": [
    {
     "data": {
      "text/plain": [
       "19306004.37798064"
      ]
     },
     "execution_count": 74,
     "metadata": {},
     "output_type": "execute_result"
    }
   ],
   "source": [
    "salariosBrutos=df['Salario mensual NETO (en tu moneda local)'].copy(deep=True) #Copiamos la columna y la traemos como elemento de numpy\n",
    "mediaSalarios = salariosBrutos.mean() #Calculamos la media\n",
    "mediaSalarios"
   ]
  },
  {
   "cell_type": "code",
   "execution_count": 90,
   "id": "9ed5bef1",
   "metadata": {},
   "outputs": [
    {
     "data": {
      "text/plain": [
       "76000.0"
      ]
     },
     "execution_count": 90,
     "metadata": {},
     "output_type": "execute_result"
    }
   ],
   "source": [
    "medianaSalarios = salariosBrutos.median() #Calculamos la mediana\n",
    "medianaSalarios "
   ]
  },
  {
   "cell_type": "code",
   "execution_count": 106,
   "id": "5c9b692c",
   "metadata": {},
   "outputs": [
    {
     "name": "stdout",
     "output_type": "stream",
     "text": [
      "La media es de: 19306004.37798064 es mayor que la mediana: 76000.0\n"
     ]
    }
   ],
   "source": [
    "if mediaSalarios > medianaSalarios:\n",
    "    print(f\"La media es de: {mediaSalarios} es mayor que la mediana: {medianaSalarios}\")\n",
    "elif medianaSalarios > mediaSalarios:\n",
    "        print(f\"La mediana es de: {medianaSalarios} es mayor que la media: {mediaSalarios}\")\n",
    "else:\n",
    "        print(f\"La media es de: {mediaSalarios} es igual que la mediana: {medianaSalarios}\")"
   ]
  },
  {
   "cell_type": "code",
   "execution_count": null,
   "id": "db221f2a",
   "metadata": {},
   "outputs": [],
   "source": []
  }
 ],
 "metadata": {
  "kernelspec": {
   "display_name": "Python 3",
   "language": "python",
   "name": "python3"
  },
  "language_info": {
   "codemirror_mode": {
    "name": "ipython",
    "version": 3
   },
   "file_extension": ".py",
   "mimetype": "text/x-python",
   "name": "python",
   "nbconvert_exporter": "python",
   "pygments_lexer": "ipython3",
   "version": "3.8.8"
  }
 },
 "nbformat": 4,
 "nbformat_minor": 5
}
